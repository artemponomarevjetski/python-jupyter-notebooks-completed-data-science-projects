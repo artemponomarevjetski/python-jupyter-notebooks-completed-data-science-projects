{
 "cells": [
  {
   "cell_type": "code",
   "execution_count": 3,
   "metadata": {},
   "outputs": [
    {
     "name": "stdout",
     "output_type": "stream",
     "text": [
      "0 0 89789 8 56 48 8\n",
      "8\n",
      "1 8 89789 9 57 48 9\n",
      "89\n",
      "2 89 89789 7 55 48 7\n",
      "897\n",
      "3 897 89789 8 56 48 8\n",
      "8978\n",
      "4 8978 89789 9 57 48 9\n",
      "89789\n",
      "89789\n"
     ]
    }
   ],
   "source": [
    "def myAtoi(string):\n",
    "    res = 0\n",
    "  \n",
    "    # Iterate through all characters of\n",
    "    #  input string and update result\n",
    "    for i in range(len(string)):\n",
    "        print(i, res, string, string[i], ord(string[i]), ord('0'), ord(string[i]) - ord('0'))\n",
    "        res = res * 10 + (ord(string[i]) - ord('0'))\n",
    "        print(res)\n",
    "  \n",
    "    return res\n",
    "  \n",
    "# Driver program\n",
    "string = \"89789\"\n",
    "  \n",
    "# Function call\n",
    "print(myAtoi(string))"
   ]
  },
  {
   "cell_type": "code",
   "execution_count": 4,
   "metadata": {},
   "outputs": [
    {
     "data": {
      "text/plain": [
       "50"
      ]
     },
     "execution_count": 4,
     "metadata": {},
     "output_type": "execute_result"
    }
   ],
   "source": [
    "ord('2')"
   ]
  },
  {
   "cell_type": "code",
   "execution_count": null,
   "metadata": {},
   "outputs": [],
   "source": []
  }
 ],
 "metadata": {
  "kernelspec": {
   "display_name": "Python 3",
   "language": "python",
   "name": "python3"
  },
  "language_info": {
   "codemirror_mode": {
    "name": "ipython",
    "version": 3
   },
   "file_extension": ".py",
   "mimetype": "text/x-python",
   "name": "python",
   "nbconvert_exporter": "python",
   "pygments_lexer": "ipython3",
   "version": "3.8.3"
  }
 },
 "nbformat": 4,
 "nbformat_minor": 4
}
